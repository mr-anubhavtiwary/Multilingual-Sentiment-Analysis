{
  "cells": [
    {
      "cell_type": "code",
      "source": [
        "!pip install transformers"
      ],
      "metadata": {
        "colab": {
          "base_uri": "https://localhost:8080/"
        },
        "id": "TKogZoZ_D8xL",
        "outputId": "08bd6e36-8de1-4751-9fd9-9cff9fbceb55"
      },
      "execution_count": null,
      "outputs": [
        {
          "output_type": "stream",
          "name": "stdout",
          "text": [
            "Requirement already satisfied: transformers in /usr/local/lib/python3.10/dist-packages (4.40.1)\n",
            "Requirement already satisfied: filelock in /usr/local/lib/python3.10/dist-packages (from transformers) (3.14.0)\n",
            "Requirement already satisfied: huggingface-hub<1.0,>=0.19.3 in /usr/local/lib/python3.10/dist-packages (from transformers) (0.20.3)\n",
            "Requirement already satisfied: numpy>=1.17 in /usr/local/lib/python3.10/dist-packages (from transformers) (1.25.2)\n",
            "Requirement already satisfied: packaging>=20.0 in /usr/local/lib/python3.10/dist-packages (from transformers) (24.0)\n",
            "Requirement already satisfied: pyyaml>=5.1 in /usr/local/lib/python3.10/dist-packages (from transformers) (6.0.1)\n",
            "Requirement already satisfied: regex!=2019.12.17 in /usr/local/lib/python3.10/dist-packages (from transformers) (2023.12.25)\n",
            "Requirement already satisfied: requests in /usr/local/lib/python3.10/dist-packages (from transformers) (2.31.0)\n",
            "Requirement already satisfied: tokenizers<0.20,>=0.19 in /usr/local/lib/python3.10/dist-packages (from transformers) (0.19.1)\n",
            "Requirement already satisfied: safetensors>=0.4.1 in /usr/local/lib/python3.10/dist-packages (from transformers) (0.4.3)\n",
            "Requirement already satisfied: tqdm>=4.27 in /usr/local/lib/python3.10/dist-packages (from transformers) (4.66.4)\n",
            "Requirement already satisfied: fsspec>=2023.5.0 in /usr/local/lib/python3.10/dist-packages (from huggingface-hub<1.0,>=0.19.3->transformers) (2023.6.0)\n",
            "Requirement already satisfied: typing-extensions>=3.7.4.3 in /usr/local/lib/python3.10/dist-packages (from huggingface-hub<1.0,>=0.19.3->transformers) (4.11.0)\n",
            "Requirement already satisfied: charset-normalizer<4,>=2 in /usr/local/lib/python3.10/dist-packages (from requests->transformers) (3.3.2)\n",
            "Requirement already satisfied: idna<4,>=2.5 in /usr/local/lib/python3.10/dist-packages (from requests->transformers) (3.7)\n",
            "Requirement already satisfied: urllib3<3,>=1.21.1 in /usr/local/lib/python3.10/dist-packages (from requests->transformers) (2.0.7)\n",
            "Requirement already satisfied: certifi>=2017.4.17 in /usr/local/lib/python3.10/dist-packages (from requests->transformers) (2024.2.2)\n"
          ]
        }
      ]
    },
    {
      "cell_type": "code",
      "source": [
        "import pandas as pd\n",
        "import numpy as np\n",
        "import spacy\n",
        "from transformers import BertTokenizer, TFBertModel\n",
        "from keras.preprocessing.text import Tokenizer\n",
        "from keras.preprocessing.sequence import pad_sequences\n",
        "from sklearn.model_selection import train_test_split\n",
        "from keras.models import Sequential\n",
        "from keras.layers import Embedding, LSTM, Dense"
      ],
      "metadata": {
        "id": "Pe98cV46YvMz"
      },
      "execution_count": null,
      "outputs": []
    },
    {
      "cell_type": "code",
      "source": [
        "import tensorflow as tf\n",
        "import keras\n",
        "print(tf.__version__)\n",
        "print(keras.__version__)\n",
        "import sys\n",
        "print(sys.version)"
      ],
      "metadata": {
        "colab": {
          "base_uri": "https://localhost:8080/"
        },
        "id": "GhjMoWwDCHDP",
        "outputId": "cc790c6f-44cb-4969-dda2-fe1c7707b419"
      },
      "execution_count": null,
      "outputs": [
        {
          "output_type": "stream",
          "name": "stdout",
          "text": [
            "2.15.0\n",
            "2.15.0\n",
            "3.10.12 (main, Nov 20 2023, 15:14:05) [GCC 11.4.0]\n"
          ]
        }
      ]
    },
    {
      "cell_type": "code",
      "source": [],
      "metadata": {
        "id": "btEFfIqlD6N_"
      },
      "execution_count": null,
      "outputs": []
    },
    {
      "cell_type": "code",
      "source": [
        "# Load the data\n",
        "df = pd.read_csv('/content/translated_amazon_reviews (2).csv')\n",
        "df = df.dropna()\n",
        "\n",
        "# Split the data into training and validation sets\n",
        "train_text, val_text, train_labels, val_labels = train_test_split(df['text'], df['label'], test_size=0.1, random_state=42)\n",
        "\n",
        "\n"
      ],
      "metadata": {
        "id": "tXBz3ytaN0jX"
      },
      "execution_count": null,
      "outputs": []
    },
    {
      "cell_type": "code",
      "source": [
        "# import pickle\n",
        "# print(type(tokenizer))\n",
        "# # Save the Tokenizer\n",
        "# with open('tokenizer_LSTM.pickle', 'wb') as handle:\n",
        "#     pickle.dump(tokenizer, handle, protocol=pickle.HIGHEST_PROTOCOL)\n"
      ],
      "metadata": {
        "id": "1cI4omlqN2RK"
      },
      "execution_count": null,
      "outputs": []
    },
    {
      "cell_type": "code",
      "source": [
        "# # Create a Tokenizer object\n",
        "# tokenizer = Tokenizer(num_words=5000)\n",
        "# tokenizer.fit_on_texts(train_text)\n",
        "\n",
        "\n",
        "# # Convert the text data into sequences of tokens\n",
        "# train_sequences = tokenizer.texts_to_sequences(train_text)\n",
        "# val_sequences = tokenizer.texts_to_sequences(val_text)\n",
        "\n",
        "# # Pad the sequences to have the same length\n",
        "# max_length = 200\n",
        "# padded_train = pad_sequences(train_sequences, maxlen=max_length)\n",
        "# padded_val = pad_sequences(val_sequences, maxlen=max_length)\n",
        "\n",
        "# # Define the LSTM model\n",
        "# model = Sequential()\n",
        "# model.add(Embedding(5000, 128, input_length=max_length))\n",
        "# model.add(LSTM(64, dropout=0.1))\n",
        "# model.add(Dense(1, activation='sigmoid'))\n",
        "\n",
        "# # Compile the model\n",
        "# model.compile(loss='binary_crossentropy', optimizer='adam', metrics=['accuracy'])\n",
        "\n",
        "# # Train the model\n",
        "# model.fit(padded_train, train_labels, epochs=5, validation_data=(padded_val, val_labels))"
      ],
      "metadata": {
        "id": "hTtpo5PnYtNx"
      },
      "execution_count": null,
      "outputs": []
    },
    {
      "cell_type": "code",
      "source": [
        "# Create a Tokenizer object\n",
        "tokenizer = Tokenizer(num_words=5000)\n",
        "tokenizer.fit_on_texts(train_text)\n",
        "\n",
        "# Convert the text data into sequences of tokens\n",
        "train_sequences = tokenizer.texts_to_sequences(train_text)\n",
        "val_sequences = tokenizer.texts_to_sequences(val_text)\n",
        "\n",
        "# Pad the sequences to have the same length\n",
        "max_length = 250  # Increased from 200 to 250\n",
        "padded_train = pad_sequences(train_sequences, maxlen=max_length)\n",
        "padded_val = pad_sequences(val_sequences, maxlen=max_length)\n",
        "\n",
        "# Define the LSTM model\n",
        "model = Sequential()\n",
        "model.add(Embedding(5000, 256, input_length=max_length))  # Increased embedding dimensions from 128 to 256\n",
        "model.add(LSTM(128, dropout=0.2))  # Increased LSTM units from 64 to 128 and dropout from 0.1 to 0.2\n",
        "model.add(Dense(1, activation='sigmoid'))\n",
        "\n",
        "# # Compile the model\n",
        "# model.compile(loss='binary_crossentropy', optimizer='adam', metrics=['accuracy'])\n",
        "\n",
        "# # Train the model\n",
        "# model.fit(padded_train, train_labels, epochs=10, validation_data=(padded_val, val_labels), batch_size=32)  # Increased epochs from 5 to 10 and added batch size of 32"
      ],
      "metadata": {
        "id": "0_X7R6axFI22"
      },
      "execution_count": null,
      "outputs": []
    },
    {
      "cell_type": "code",
      "source": [
        "import matplotlib.pyplot as plt\n",
        "\n",
        "# Compile the model\n",
        "model.compile(loss='binary_crossentropy', optimizer='adam', metrics=['accuracy'])\n",
        "\n",
        "# Train the model\n",
        "history = model.fit(padded_train, train_labels, epochs=10, validation_data=(padded_val, val_labels), batch_size=32)\n",
        "\n",
        "# Increased epochs from 5 to 10 and added batch size of 32\n",
        "\n",
        "# Plot the accuracy and loss curve\n",
        "plt.plot(history.history['accuracy'], label='Training Accuracy')\n",
        "plt.plot(history.history['val_accuracy'], label='Validation Accuracy')\n",
        "plt.plot(history.history['loss'], label='Training Loss')\n",
        "plt.plot(history.history['val_loss'], label='Validation Loss')\n",
        "plt.legend()\n",
        "plt.show()"
      ],
      "metadata": {
        "colab": {
          "base_uri": "https://localhost:8080/",
          "height": 798
        },
        "id": "Qq--vmcXsfkH",
        "outputId": "4c2b2ed6-0477-4980-ae1b-da2006dae8d1"
      },
      "execution_count": null,
      "outputs": [
        {
          "output_type": "stream",
          "name": "stdout",
          "text": [
            "Epoch 1/10\n",
            "450/450 [==============================] - 283s 624ms/step - loss: 0.4738 - accuracy: 0.7713 - val_loss: 0.3783 - val_accuracy: 0.8380\n",
            "Epoch 2/10\n",
            "450/450 [==============================] - 258s 574ms/step - loss: 0.3170 - accuracy: 0.8643 - val_loss: 0.3851 - val_accuracy: 0.8261\n",
            "Epoch 3/10\n",
            "450/450 [==============================] - 257s 572ms/step - loss: 0.2518 - accuracy: 0.8953 - val_loss: 0.3987 - val_accuracy: 0.8318\n",
            "Epoch 4/10\n",
            "450/450 [==============================] - 276s 612ms/step - loss: 0.2034 - accuracy: 0.9140 - val_loss: 0.4374 - val_accuracy: 0.8236\n",
            "Epoch 5/10\n",
            "450/450 [==============================] - 253s 563ms/step - loss: 0.1703 - accuracy: 0.9323 - val_loss: 0.5001 - val_accuracy: 0.8268\n",
            "Epoch 6/10\n",
            "450/450 [==============================] - 253s 561ms/step - loss: 0.1370 - accuracy: 0.9448 - val_loss: 0.5865 - val_accuracy: 0.8299\n",
            "Epoch 7/10\n",
            "450/450 [==============================] - 263s 585ms/step - loss: 0.1288 - accuracy: 0.9488 - val_loss: 0.5746 - val_accuracy: 0.8230\n",
            "Epoch 8/10\n",
            "450/450 [==============================] - 262s 583ms/step - loss: 0.0926 - accuracy: 0.9627 - val_loss: 0.7180 - val_accuracy: 0.8168\n",
            "Epoch 9/10\n",
            "450/450 [==============================] - 257s 570ms/step - loss: 0.0795 - accuracy: 0.9682 - val_loss: 0.7275 - val_accuracy: 0.8199\n",
            "Epoch 10/10\n",
            "450/450 [==============================] - 259s 575ms/step - loss: 0.0758 - accuracy: 0.9679 - val_loss: 0.7696 - val_accuracy: 0.8174\n"
          ]
        },
        {
          "output_type": "display_data",
          "data": {
            "text/plain": [
              "<Figure size 640x480 with 1 Axes>"
            ],
            "image/png": "[encoded data removed]"
          },
          "metadata": {}
        }
      ]
    },
    {
      "cell_type": "code",
      "source": [
        "# Plot the accuracy and loss curve\n",
        "# plt.plot(history.history['accuracy'], label='Training Accuracy')\n",
        "plt.plot(history.history['val_accuracy'], label='Validation Accuracy')\n",
        "plt.plot(history.history['loss'], label='Training Loss')\n",
        "# plt.plot(history.history['val_loss'], label='Validation Loss')\n",
        "plt.legend()\n",
        "plt.show()"
      ],
      "metadata": {
        "colab": {
          "base_uri": "https://localhost:8080/",
          "height": 430
        },
        "id": "gyao14DO-CGY",
        "outputId": "8ab8573c-cc75-439a-edf0-3958d276db39"
      },
      "execution_count": null,
      "outputs": [
        {
          "output_type": "display_data",
          "data": {
            "text/plain": [
              "<Figure size 640x480 with 1 Axes>"
            ],
            "image/png": "[encoded data removed]"
          },
          "metadata": {}
        }
      ]
    },
    {
      "cell_type": "code",
      "source": [
        "# Make predictions on the validation set\n",
        "predictions = model.predict(padded_val)\n",
        "\n",
        "# Convert the predictions to binary labels (0 or 1)\n",
        "predicted_labels = (predictions > 0.5).astype('int32')"
      ],
      "metadata": {
        "colab": {
          "base_uri": "https://localhost:8080/"
        },
        "id": "VblVekrsZzGD",
        "outputId": "8f3758b1-fb2d-4091-b97f-7bdaeedd6d52"
      },
      "execution_count": null,
      "outputs": [
        {
          "output_type": "stream",
          "name": "stdout",
          "text": [
            "50/50 [==============================] - 8s 161ms/step\n"
          ]
        }
      ]
    },
    {
      "cell_type": "code",
      "source": [
        "print(predicted_labels)"
      ],
      "metadata": {
        "colab": {
          "base_uri": "https://localhost:8080/"
        },
        "id": "52YEszSz7LR7",
        "outputId": "abfe48f0-da67-41e0-b8a2-74809a20cf60"
      },
      "execution_count": null,
      "outputs": [
        {
          "output_type": "stream",
          "name": "stdout",
          "text": [
            "[[0]\n",
            " [0]\n",
            " [1]\n",
            " ...\n",
            " [0]\n",
            " [1]\n",
            " [0]]\n"
          ]
        }
      ]
    },
    {
      "cell_type": "code",
      "source": [
        "from sklearn.metrics import confusion_matrix\n",
        "# Print the confusion matrix\n",
        "conf_mat = confusion_matrix(val_labels, predicted_labels)\n",
        "print(\"Confusion Matrix:\")\n",
        "print(conf_mat)\n",
        "print(\"Acuraccy\")\n",
        "print((conf_mat[0][0] + conf_mat[1][1])/(conf_mat[0][0] + conf_mat[1][1] + conf_mat[1][0] + conf_mat[0][1]))"
      ],
      "metadata": {
        "colab": {
          "base_uri": "https://localhost:8080/"
        },
        "id": "k0SrMLLcatRr",
        "outputId": "efe9597d-e39d-4bad-f8df-acc743366860"
      },
      "execution_count": null,
      "outputs": [
        {
          "output_type": "stream",
          "name": "stdout",
          "text": [
            "Confusion Matrix:\n",
            "[[675 142]\n",
            " [150 632]]\n",
            "Acuraccy\n",
            "0.817385866166354\n"
          ]
        }
      ]
    },
    {
      "cell_type": "code",
      "source": [
        "# from joblib import dump\n",
        "# dump(model, 'LSTM1.joblib')"
      ],
      "metadata": {
        "id": "-yDA_XvmdhfA"
      },
      "execution_count": null,
      "outputs": []
    },
    {
      "cell_type": "code",
      "source": [
        "model.save('LSTM5.keras')"
      ],
      "metadata": {
        "id": "BqDI-frZbNgK"
      },
      "execution_count": null,
      "outputs": []
    },
    {
      "cell_type": "code",
      "source": [
        "import pickle\n",
        "with open('LSTM5.pickle', 'wb') as handle:\n",
        "    pickle.dump(model, handle, protocol=pickle.HIGHEST_PROTOCOL)\n"
      ],
      "metadata": {
        "id": "moHtOuoPxkb-"
      },
      "execution_count": null,
      "outputs": []
    },
    {
      "cell_type": "code",
      "source": [
        "model.save(\"LSTM5.h5\")"
      ],
      "metadata": {
        "colab": {
          "base_uri": "https://localhost:8080/"
        },
        "id": "Lrk7xvV23b43",
        "outputId": "22bf903d-09ce-491c-f01e-1c5aa0f2a345"
      },
      "execution_count": null,
      "outputs": [
        {
          "output_type": "stream",
          "name": "stderr",
          "text": [
            "/usr/local/lib/python3.10/dist-packages/keras/src/engine/training.py:3103: UserWarning: You are saving your model as an HDF5 file via `model.save()`. This file format is considered legacy. We recommend using instead the native Keras format, e.g. `model.save('my_model.keras')`.\n",
            "  saving_api.save_model(\n"
          ]
        }
      ]
    }
  ],
  "metadata": {
    "colab": {
      "provenance": []
    },
    "kernelspec": {
      "display_name": "Python 3",
      "name": "python3"
    },
    "language_info": {
      "name": "python"
    }
  },
  "nbformat": 4,
  "nbformat_minor": 0
}